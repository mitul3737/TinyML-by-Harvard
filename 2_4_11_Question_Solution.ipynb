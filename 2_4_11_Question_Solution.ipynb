{
  "cells": [
    {
      "cell_type": "markdown",
      "metadata": {
        "id": "ktqTCGHJw-ws"
      },
      "source": [
        "# Bean Disease Classifier\n",
        "For this assignment you'll take what you've learned so far and build a classifier for bean disease. You'll be provided with training and validation data based on 224x224 pixel color images taken of bean plants in Uganda. These images show healthy bean leaves as well as 2 types of common disease: bean rust and angular leaf spots. Your job will be to build a neural network that can tell the difference between the healthy and diseased leaves.\n",
        "\n",
        "We start by setting up the problem for you."
      ]
    },
    {
      "cell_type": "code",
      "execution_count": 6,
      "metadata": {
        "id": "wmnkg6vGbX1t",
        "colab": {
          "base_uri": "https://localhost:8080/"
        },
        "outputId": "0c5444f7-4bad-4772-b084-73f093f87ea0"
      },
      "outputs": [
        {
          "output_type": "stream",
          "name": "stdout",
          "text": [
            "Colab only includes TensorFlow 2.x; %tensorflow_version has no effect.\n"
          ]
        }
      ],
      "source": [
        "# Do not change this code\n",
        "try:\n",
        "  # %tensorflow_version only exists in Colab.\n",
        "  %tensorflow_version 2.x\n",
        "except Exception:\n",
        "  pass"
      ]
    },
    {
      "cell_type": "code",
      "execution_count": 7,
      "metadata": {
        "id": "lRV-f1DSwwiC",
        "colab": {
          "base_uri": "https://localhost:8080/"
        },
        "outputId": "d875980a-1e00-4ebc-ff69-45548e7aab53"
      },
      "outputs": [
        {
          "output_type": "stream",
          "name": "stdout",
          "text": [
            "Requirement already satisfied: gdown in /usr/local/lib/python3.10/dist-packages (5.2.0)\n",
            "Requirement already satisfied: beautifulsoup4 in /usr/local/lib/python3.10/dist-packages (from gdown) (4.12.3)\n",
            "Requirement already satisfied: filelock in /usr/local/lib/python3.10/dist-packages (from gdown) (3.14.0)\n",
            "Requirement already satisfied: requests[socks] in /usr/local/lib/python3.10/dist-packages (from gdown) (2.31.0)\n",
            "Requirement already satisfied: tqdm in /usr/local/lib/python3.10/dist-packages (from gdown) (4.66.4)\n",
            "Requirement already satisfied: soupsieve>1.2 in /usr/local/lib/python3.10/dist-packages (from beautifulsoup4->gdown) (2.5)\n",
            "Requirement already satisfied: charset-normalizer<4,>=2 in /usr/local/lib/python3.10/dist-packages (from requests[socks]->gdown) (3.3.2)\n",
            "Requirement already satisfied: idna<4,>=2.5 in /usr/local/lib/python3.10/dist-packages (from requests[socks]->gdown) (3.7)\n",
            "Requirement already satisfied: urllib3<3,>=1.21.1 in /usr/local/lib/python3.10/dist-packages (from requests[socks]->gdown) (2.0.7)\n",
            "Requirement already satisfied: certifi>=2017.4.17 in /usr/local/lib/python3.10/dist-packages (from requests[socks]->gdown) (2024.2.2)\n",
            "Requirement already satisfied: PySocks!=1.5.7,>=1.5.6 in /usr/local/lib/python3.10/dist-packages (from requests[socks]->gdown) (1.7.1)\n"
          ]
        }
      ],
      "source": [
        "# Do not change this code\n",
        "!pip install --upgrade --no-cache-dir gdown"
      ]
    },
    {
      "cell_type": "code",
      "execution_count": 8,
      "metadata": {
        "id": "njf4YhwFb6hW",
        "colab": {
          "base_uri": "https://localhost:8080/"
        },
        "outputId": "a12301e6-9c39-4570-bbb0-1d9f387e9069"
      },
      "outputs": [
        {
          "output_type": "stream",
          "name": "stdout",
          "text": [
            "Downloading...\n",
            "From: https://storage.googleapis.com/learning-datasets/beans/train.zip\n",
            "To: /tmp/train.zip\n",
            "100% 144M/144M [00:00<00:00, 200MB/s]\n",
            "Downloading...\n",
            "From: https://storage.googleapis.com/learning-datasets/beans/validation.zip\n",
            "To: /tmp/validation.zip\n",
            "100% 18.5M/18.5M [00:00<00:00, 186MB/s]\n",
            "Downloading...\n",
            "From: https://storage.googleapis.com/learning-datasets/beans/test.zip\n",
            "To: /tmp/test.zip\n",
            "100% 17.7M/17.7M [00:00<00:00, 234MB/s]\n"
          ]
        }
      ],
      "source": [
        "# Do not change this code\n",
        "!gdown \"https://storage.googleapis.com/learning-datasets/beans/train.zip\" -O /tmp/train.zip\n",
        "!gdown \"https://storage.googleapis.com/learning-datasets/beans/validation.zip\" -O /tmp/validation.zip\n",
        "!gdown \"https://storage.googleapis.com/learning-datasets/beans/test.zip\" -O /tmp/test.zip"
      ]
    },
    {
      "cell_type": "code",
      "execution_count": 9,
      "metadata": {
        "id": "KscpTrSWcK1T"
      },
      "outputs": [],
      "source": [
        "# Do not change this code\n",
        "import os\n",
        "import zipfile\n",
        "\n",
        "local_zip = '/tmp/train.zip'\n",
        "zip_ref = zipfile.ZipFile(local_zip, 'r')\n",
        "zip_ref.extractall('/tmp')\n",
        "local_zip = '/tmp/validation.zip'\n",
        "zip_ref = zipfile.ZipFile(local_zip, 'r')\n",
        "zip_ref.extractall('/tmp')\n",
        "local_zip = '/tmp/test.zip'\n",
        "zip_ref = zipfile.ZipFile(local_zip, 'r')\n",
        "zip_ref.extractall('/tmp/test')\n",
        "zip_ref.close()"
      ]
    },
    {
      "cell_type": "markdown",
      "metadata": {
        "id": "5R0WEYIitNwI"
      },
      "source": [
        "Now you need to define a generator to process the data we have loaded in Colab so that our model can use it for training. As we showed in the previous video you'll first have to define an ```ImageDataGenerator``` and then flow the data into it.\n",
        "\n",
        "*A hint: You don't want abnormal data!*"
      ]
    },
    {
      "cell_type": "code",
      "execution_count": 10,
      "metadata": {
        "id": "jCiSd248caB4",
        "colab": {
          "base_uri": "https://localhost:8080/"
        },
        "outputId": "4bf76076-f188-4974-aa39-7fe4d982e0ab"
      },
      "outputs": [
        {
          "output_type": "stream",
          "name": "stdout",
          "text": [
            "Found 1034 images belonging to 3 classes.\n",
            "Found 133 images belonging to 3 classes.\n"
          ]
        }
      ],
      "source": [
        "from tensorflow.keras.preprocessing.image import ImageDataGenerator\n",
        "\n",
        "train_datagen = ImageDataGenerator(\n",
        "\n",
        "    rescale=1./255,\n",
        "\n",
        "    rotation_range=40,\n",
        "\n",
        "    width_shift_range=0.2,\n",
        "\n",
        "    height_shift_range=0.2,\n",
        "\n",
        "    shear_range=0.2,\n",
        "\n",
        "    zoom_range=0.2,\n",
        "\n",
        "    horizontal_flip=True,\n",
        "\n",
        "    fill_mode='nearest'\n",
        "\n",
        ")\n",
        "\n",
        "\n",
        "validation_datagen = ImageDataGenerator(\n",
        "      rescale=1./255,\n",
        "\n",
        "      rotation_range=40,\n",
        "\n",
        "      width_shift_range=0.2,\n",
        "\n",
        "      height_shift_range=0.2,\n",
        "\n",
        "      shear_range=0.2,\n",
        "\n",
        "      zoom_range=0.2,\n",
        "\n",
        "      horizontal_flip=True,\n",
        "\n",
        "      fill_mode='nearest'\n",
        ")\n",
        "\n",
        "TRAIN_DIRECTORY_LOCATION = '/tmp/train'\n",
        "\n",
        "VAL_DIRECTORY_LOCATION = '/tmp/validation'\n",
        "\n",
        "TARGET_SIZE = (224,224)\n",
        "\n",
        "CLASS_MODE = 'categorical'\n",
        "\n",
        "\n",
        "\n",
        "train_generator = train_datagen.flow_from_directory(\n",
        "    TRAIN_DIRECTORY_LOCATION,\n",
        "    target_size = TARGET_SIZE,\n",
        "    batch_size = 128,\n",
        "    class_mode = CLASS_MODE\n",
        ")\n",
        "\n",
        "validation_generator = validation_datagen.flow_from_directory(\n",
        "    VAL_DIRECTORY_LOCATION,\n",
        "    target_size = TARGET_SIZE,\n",
        "    batch_size = 128,\n",
        "    class_mode = CLASS_MODE\n",
        ")"
      ]
    },
    {
      "cell_type": "markdown",
      "metadata": {
        "id": "rjpkGy4RtNwJ"
      },
      "source": [
        "Now its your turn to define a model to learn this data.\n",
        "\n",
        "*A hint: Like with the CIFAR-10 assignment, your model may want to learn some high level features and then classify them. This time it may help to make the model a little wider at times.*"
      ]
    },
    {
      "cell_type": "code",
      "execution_count": 11,
      "metadata": {
        "id": "vrJt6YSDcqjX",
        "colab": {
          "base_uri": "https://localhost:8080/"
        },
        "outputId": "fa833228-41b4-4835-d30f-3f292917cf39"
      },
      "outputs": [
        {
          "output_type": "stream",
          "name": "stdout",
          "text": [
            "Model: \"sequential\"\n",
            "_________________________________________________________________\n",
            " Layer (type)                Output Shape              Param #   \n",
            "=================================================================\n",
            " conv2d (Conv2D)             (None, 222, 222, 16)      448       \n",
            "                                                                 \n",
            " max_pooling2d (MaxPooling2  (None, 111, 111, 16)      0         \n",
            " D)                                                              \n",
            "                                                                 \n",
            " conv2d_1 (Conv2D)           (None, 109, 109, 32)      4640      \n",
            "                                                                 \n",
            " max_pooling2d_1 (MaxPoolin  (None, 54, 54, 32)        0         \n",
            " g2D)                                                            \n",
            "                                                                 \n",
            " conv2d_2 (Conv2D)           (None, 52, 52, 64)        18496     \n",
            "                                                                 \n",
            " max_pooling2d_2 (MaxPoolin  (None, 26, 26, 64)        0         \n",
            " g2D)                                                            \n",
            "                                                                 \n",
            " conv2d_3 (Conv2D)           (None, 24, 24, 128)       73856     \n",
            "                                                                 \n",
            " max_pooling2d_3 (MaxPoolin  (None, 12, 12, 128)       0         \n",
            " g2D)                                                            \n",
            "                                                                 \n",
            " flatten (Flatten)           (None, 18432)             0         \n",
            "                                                                 \n",
            " dense (Dense)               (None, 512)               9437696   \n",
            "                                                                 \n",
            " dense_1 (Dense)             (None, 3)                 1539      \n",
            "                                                                 \n",
            "=================================================================\n",
            "Total params: 9536675 (36.38 MB)\n",
            "Trainable params: 9536675 (36.38 MB)\n",
            "Non-trainable params: 0 (0.00 Byte)\n",
            "_________________________________________________________________\n"
          ]
        }
      ],
      "source": [
        "import tensorflow as tf\n",
        "model = tf.keras.models.Sequential([\n",
        "\n",
        "   # Find the features with Convolutions and Pooling\n",
        "\n",
        "   tf.keras.layers.Conv2D(16, (3,3), activation='relu', input_shape=(224, 224, 3)),\n",
        "\n",
        "   tf.keras.layers.MaxPooling2D(2, 2),\n",
        "\n",
        "   tf.keras.layers.Conv2D(32, (3,3), activation='relu'),\n",
        "\n",
        "   tf.keras.layers.MaxPooling2D(2,2),\n",
        "\n",
        "   tf.keras.layers.Conv2D(64, (3,3), activation='relu'),\n",
        "\n",
        "   tf.keras.layers.MaxPooling2D(2,2),\n",
        "\n",
        "   tf.keras.layers.Conv2D(128, (3,3), activation='relu'),\n",
        "\n",
        "   tf.keras.layers.MaxPooling2D(2,2),\n",
        "\n",
        "   # Flatten the results to feed into a DNN\n",
        "\n",
        "   tf.keras.layers.Flatten(),\n",
        "\n",
        "   # 512 neuron hidden layer\n",
        "\n",
        "   tf.keras.layers.Dense(512, activation='relu'),\n",
        "\n",
        "   tf.keras.layers.Dense(3, activation='softmax')\n",
        "\n",
        "])\n",
        "\n",
        "# This will print a summary of your model when you're done!\n",
        "model.summary()"
      ]
    },
    {
      "cell_type": "markdown",
      "metadata": {
        "id": "O6UOV_PztNwK"
      },
      "source": [
        "Then you'll need to pick an appropriate loss function and optimizer.\n",
        "\n",
        "*A hint: remember we are classifying again.*"
      ]
    },
    {
      "cell_type": "code",
      "execution_count": 12,
      "metadata": {
        "id": "nST6CyvCcy-2"
      },
      "outputs": [],
      "source": [
        "OPTIMIZER = 'adam'\n",
        "LOSS_FUNCTION = 'categorical_crossentropy'\n",
        "\n",
        "model.compile(\n",
        "    loss = LOSS_FUNCTION,\n",
        "    optimizer = OPTIMIZER,\n",
        "    metrics = ['accuracy']\n",
        ")"
      ]
    },
    {
      "cell_type": "markdown",
      "metadata": {
        "id": "0EDyhXfgtNwL"
      },
      "source": [
        "Finally select the number of epochs you'd like to train for and train your model!\n",
        "\n",
        "*A hint: something in the low tens is a good place to start*"
      ]
    },
    {
      "cell_type": "code",
      "execution_count": 13,
      "metadata": {
        "id": "Q3iK9LX9deu2",
        "colab": {
          "base_uri": "https://localhost:8080/",
          "height": 1000
        },
        "outputId": "3637b178-30b1-483f-b3b7-e83516cdef9a"
      },
      "outputs": [
        {
          "output_type": "stream",
          "name": "stdout",
          "text": [
            "Epoch 1/20\n",
            "9/9 [==============================] - 29s 2s/step - loss: 1.2949 - accuracy: 0.3462 - val_loss: 1.0945 - val_accuracy: 0.3459\n",
            "Epoch 2/20\n",
            "9/9 [==============================] - 18s 2s/step - loss: 1.0924 - accuracy: 0.3772 - val_loss: 1.0691 - val_accuracy: 0.5940\n",
            "Epoch 3/20\n",
            "9/9 [==============================] - 18s 2s/step - loss: 1.0253 - accuracy: 0.5116 - val_loss: 0.9363 - val_accuracy: 0.4662\n",
            "Epoch 4/20\n",
            "9/9 [==============================] - 17s 2s/step - loss: 0.9397 - accuracy: 0.5658 - val_loss: 0.8603 - val_accuracy: 0.5940\n",
            "Epoch 5/20\n",
            "9/9 [==============================] - 17s 2s/step - loss: 0.8592 - accuracy: 0.6035 - val_loss: 0.8257 - val_accuracy: 0.5489\n",
            "Epoch 6/20\n",
            "9/9 [==============================] - 18s 2s/step - loss: 0.8997 - accuracy: 0.5638 - val_loss: 1.0184 - val_accuracy: 0.4962\n",
            "Epoch 7/20\n",
            "9/9 [==============================] - 17s 2s/step - loss: 0.8263 - accuracy: 0.6325 - val_loss: 0.7827 - val_accuracy: 0.6541\n",
            "Epoch 8/20\n",
            "9/9 [==============================] - 17s 2s/step - loss: 0.7697 - accuracy: 0.6712 - val_loss: 0.8242 - val_accuracy: 0.6015\n",
            "Epoch 9/20\n",
            "9/9 [==============================] - 18s 2s/step - loss: 0.7851 - accuracy: 0.6393 - val_loss: 0.7542 - val_accuracy: 0.6692\n",
            "Epoch 10/20\n",
            "9/9 [==============================] - 17s 2s/step - loss: 0.7565 - accuracy: 0.6557 - val_loss: 0.8015 - val_accuracy: 0.6391\n",
            "Epoch 11/20\n",
            "9/9 [==============================] - 18s 2s/step - loss: 0.8169 - accuracy: 0.5977 - val_loss: 0.6856 - val_accuracy: 0.6617\n",
            "Epoch 12/20\n",
            "9/9 [==============================] - 17s 2s/step - loss: 0.7593 - accuracy: 0.6663 - val_loss: 0.6718 - val_accuracy: 0.7293\n",
            "Epoch 13/20\n",
            "9/9 [==============================] - 18s 2s/step - loss: 0.6968 - accuracy: 0.7021 - val_loss: 0.7350 - val_accuracy: 0.6842\n",
            "Epoch 14/20\n",
            "9/9 [==============================] - 17s 2s/step - loss: 0.7025 - accuracy: 0.6963 - val_loss: 0.6919 - val_accuracy: 0.6917\n",
            "Epoch 15/20\n",
            "9/9 [==============================] - 18s 2s/step - loss: 0.6610 - accuracy: 0.7137 - val_loss: 0.6443 - val_accuracy: 0.7444\n",
            "Epoch 16/20\n",
            "9/9 [==============================] - 17s 2s/step - loss: 0.6238 - accuracy: 0.7398 - val_loss: 0.5978 - val_accuracy: 0.7368\n",
            "Epoch 17/20\n",
            "9/9 [==============================] - 18s 2s/step - loss: 0.6538 - accuracy: 0.7302 - val_loss: 0.6632 - val_accuracy: 0.7068\n",
            "Epoch 18/20\n",
            "9/9 [==============================] - 17s 2s/step - loss: 0.6504 - accuracy: 0.7292 - val_loss: 0.5999 - val_accuracy: 0.7669\n",
            "Epoch 19/20\n",
            "9/9 [==============================] - 17s 2s/step - loss: 0.6471 - accuracy: 0.7147 - val_loss: 0.6037 - val_accuracy: 0.7218\n",
            "Epoch 20/20\n",
            "9/9 [==============================] - 17s 2s/step - loss: 0.6377 - accuracy: 0.7292 - val_loss: 0.5402 - val_accuracy: 0.7669\n"
          ]
        },
        {
          "output_type": "display_data",
          "data": {
            "text/plain": [
              "<Figure size 640x480 with 1 Axes>"
            ],
            "image/png": "[encoded data removed]"
          },
          "metadata": {}
        }
      ],
      "source": [
        "NUM_EPOCHS = 20 #YOUR CODE HERE#\n",
        "\n",
        "history = model.fit(\n",
        "      train_generator,\n",
        "      epochs = NUM_EPOCHS,\n",
        "      verbose = 1,\n",
        "      validation_data = validation_generator)\n",
        "\n",
        "# summarize history for accuracy\n",
        "import matplotlib.pyplot as plt\n",
        "plt.plot(history.history['accuracy'])\n",
        "plt.plot(history.history['val_accuracy'])\n",
        "plt.title('model accuracy')\n",
        "plt.ylabel('accuracy')\n",
        "plt.xlabel('epoch')\n",
        "plt.legend(['train', 'test'], loc='upper left')\n",
        "plt.xlim([0,NUM_EPOCHS])\n",
        "plt.ylim([0.4,1.0])\n",
        "plt.show()"
      ]
    }
  ],
  "metadata": {
    "accelerator": "GPU",
    "colab": {
      "name": "2-4-11-Question.ipynb",
      "provenance": []
    },
    "kernelspec": {
      "display_name": "Python 3",
      "language": "python",
      "name": "python3"
    },
    "language_info": {
      "codemirror_mode": {
        "name": "ipython",
        "version": 3
      },
      "file_extension": ".py",
      "mimetype": "text/x-python",
      "name": "python",
      "nbconvert_exporter": "python",
      "pygments_lexer": "ipython3",
      "version": "3.6.9"
    }
  },
  "nbformat": 4,
  "nbformat_minor": 0
}